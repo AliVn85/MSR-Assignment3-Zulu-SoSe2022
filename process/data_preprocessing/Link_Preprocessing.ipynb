{
 "cells": [
  {
   "cell_type": "code",
   "execution_count": 1,
   "id": "1345f1c8",
   "metadata": {},
   "outputs": [],
   "source": [
    "import pandas as pd\n",
    "from tqdm import tqdm"
   ]
  },
  {
   "cell_type": "code",
   "execution_count": 2,
   "id": "f0b7ceb1",
   "metadata": {},
   "outputs": [],
   "source": [
    "tqdm.pandas()"
   ]
  },
  {
   "cell_type": "code",
   "execution_count": 3,
   "id": "1981c072",
   "metadata": {},
   "outputs": [],
   "source": [
    "SOURCES = ['Apache', 'Hyperledger', 'IntelDAOS', 'JFrog', 'Jira', 'JiraEcosystem', 'MariaDB', 'Mindville', 'MongoDB', 'Qt', 'RedHat', 'Sakai', 'SecondLife', 'Sonatype', 'Spring']"
   ]
  },
  {
   "cell_type": "code",
   "execution_count": 4,
   "id": "863b71eb",
   "metadata": {},
   "outputs": [],
   "source": [
    "def add_linked_issues_to_df(df):\n",
    "    df['issues']=''\n",
    "    for i in tqdm(range(len(df))):\n",
    "        df[\"issues\"].iloc[i] = str(sorted(set([df.iloc[i]['issue_id_1'], df.iloc[i]['issue_id_2']])))"
   ]
  },
  {
   "cell_type": "code",
   "execution_count": 5,
   "id": "f3026273",
   "metadata": {},
   "outputs": [],
   "source": [
    "def load_data(source):\n",
    "    #Loading Issues\n",
    "    filename = '../../data/crawl/issues_'+source.lower()+'.csv'\n",
    "    issue_df = pd.read_csv(filename, encoding=\"UTF-8\", low_memory=False, sep=';', index_col=['issue_id'])\n",
    "\n",
    "    #Loading Links\n",
    "    filename = '../../data/crawl/links_'+source.lower()+'.csv'\n",
    "    link_df = pd.read_csv(filename, encoding=\"UTF-8\", low_memory=False, sep=';').drop_duplicates()\n",
    "    \n",
    "    return issue_df, link_df"
   ]
  },
  {
   "cell_type": "code",
   "execution_count": 6,
   "id": "f135e4c3",
   "metadata": {},
   "outputs": [],
   "source": [
    "def clean_issues(issue_df):\n",
    "    #Remove issues with empty titles\n",
    "    issue_df = issue_df[~issue_df['title'].fillna(' ').str.isspace()]\n",
    "    print(f'After filtering out issues with empty titles, {len(issue_df)} issues remain')\n",
    "    \n",
    "    return issue_df"
   ]
  },
  {
   "cell_type": "code",
   "execution_count": 7,
   "id": "f15fdbbe",
   "metadata": {},
   "outputs": [],
   "source": [
    "def clean_links(link_df):\n",
    "    add_linked_issues_to_df(link_df)\n",
    "    \n",
    "    # remove links with uncrawled and filtered issues\n",
    "    link_df = link_df[link_df[['issue_id_1', 'issue_id_2']].isin(issue_df.index.values).all(axis=1)]\n",
    "    print(f'Left with {len(link_df)} links after removing half-private links')\n",
    "    x = len(link_df)\n",
    "    \n",
    "    # cleanup links\n",
    "    # only allow one linktype per issue-pair\n",
    "    link_df.drop_duplicates(subset=['name'], keep=False, inplace=True)\n",
    "#     print(f'Left with {len(link_df)} links after removing issue-pairs with multiple links between them')\n",
    "\n",
    "    # in case the name is the otherway around, like issue-1_issue-2 and issue-2_issue-1\n",
    "    doublelinks = (link_df.issues.value_counts()>1).rename_axis('doubles').reset_index(name='valid')\n",
    "    valid_doubles = set(doublelinks[doublelinks['valid']==True]['doubles'])\n",
    "\n",
    "    for i in tqdm(valid_doubles):\n",
    "        if len(set(link_df[link_df['issues']==i]['linktype']))>1:\n",
    "            link_df = link_df[link_df.issues != i]\n",
    "    print(f'Left with {len(link_df)} links after removing issue-pairs with multiple link types between them')\n",
    "    \n",
    "    print(round((x-len(link_df))/x)*100,2)\n",
    "\n",
    "    del_mult_lt = (x-len(link_df))/x\n",
    "    \n",
    "    #Multiple links complete remove\n",
    "    link_df.drop_duplicates(subset=['issues'], inplace=True)\n",
    "    print(f'Left with {len(link_df)} links after removing issue-pairs with multiple entries')\n",
    "\n",
    "    link_df.reset_index(inplace=True, drop=True)\n",
    "    \n",
    "    return link_df, del_mult_lt"
   ]
  },
  {
   "cell_type": "code",
   "execution_count": 8,
   "id": "b42827a1",
   "metadata": {
    "scrolled": true
   },
   "outputs": [
    {
     "name": "stdout",
     "output_type": "stream",
     "text": [
      "APACHE\n",
      "Loaded 1014926 issues and 264107 links\n",
      "After filtering out issues with empty titles, 1014925 issues remain\n"
     ]
    },
    {
     "name": "stderr",
     "output_type": "stream",
     "text": [
      "100%|████████████████████████████████████████████████████████████████████████| 264107/264107 [00:55<00:00, 4758.27it/s]\n",
      "C:\\Users\\J0K3R-Nitro\\AppData\\Local\\Temp\\ipykernel_26844\\3976087386.py:11: SettingWithCopyWarning: \n",
      "A value is trying to be set on a copy of a slice from a DataFrame\n",
      "\n",
      "See the caveats in the documentation: https://pandas.pydata.org/pandas-docs/stable/user_guide/indexing.html#returning-a-view-versus-a-copy\n",
      "  link_df.drop_duplicates(subset=['name'], keep=False, inplace=True)\n"
     ]
    },
    {
     "name": "stdout",
     "output_type": "stream",
     "text": [
      "Left with 263647 links after removing half-private links\n"
     ]
    },
    {
     "name": "stderr",
     "output_type": "stream",
     "text": [
      "100%|██████████████████████████████████████████████████████████████████████████████| 2218/2218 [01:14<00:00, 29.83it/s]\n"
     ]
    },
    {
     "name": "stdout",
     "output_type": "stream",
     "text": [
      "Left with 256253 links after removing issue-pairs with multiple link types between them\n",
      "0 2\n",
      "Left with 255767 links after removing issue-pairs with multiple entries\n",
      "Cleaned 1014925 issues and 255767 links\n",
      "----------------------------\n",
      "HYPERLEDGER\n",
      "Loaded 28146 issues and 16846 links\n",
      "After filtering out issues with empty titles, 28146 issues remain\n"
     ]
    },
    {
     "name": "stderr",
     "output_type": "stream",
     "text": [
      "100%|██████████████████████████████████████████████████████████████████████████| 16846/16846 [00:03<00:00, 4721.32it/s]\n",
      "C:\\Users\\J0K3R-Nitro\\AppData\\Local\\Temp\\ipykernel_26844\\3976087386.py:11: SettingWithCopyWarning: \n",
      "A value is trying to be set on a copy of a slice from a DataFrame\n",
      "\n",
      "See the caveats in the documentation: https://pandas.pydata.org/pandas-docs/stable/user_guide/indexing.html#returning-a-view-versus-a-copy\n",
      "  link_df.drop_duplicates(subset=['name'], keep=False, inplace=True)\n"
     ]
    },
    {
     "name": "stdout",
     "output_type": "stream",
     "text": [
      "Left with 16733 links after removing half-private links\n"
     ]
    },
    {
     "name": "stderr",
     "output_type": "stream",
     "text": [
      "100%|███████████████████████████████████████████████████████████████████████████████| 141/141 [00:00<00:00, 520.30it/s]\n"
     ]
    },
    {
     "name": "stdout",
     "output_type": "stream",
     "text": [
      "Left with 16325 links after removing issue-pairs with multiple link types between them\n",
      "0 2\n",
      "Left with 16304 links after removing issue-pairs with multiple entries\n",
      "Cleaned 28146 issues and 16304 links\n",
      "----------------------------\n",
      "INTELDAOS\n",
      "Loaded 9474 issues and 2667 links\n",
      "After filtering out issues with empty titles, 9474 issues remain\n"
     ]
    },
    {
     "name": "stderr",
     "output_type": "stream",
     "text": [
      "100%|████████████████████████████████████████████████████████████████████████████| 2667/2667 [00:00<00:00, 4535.71it/s]\n"
     ]
    },
    {
     "name": "stdout",
     "output_type": "stream",
     "text": [
      "Left with 2667 links after removing half-private links\n"
     ]
    },
    {
     "name": "stderr",
     "output_type": "stream",
     "text": [
      "100%|████████████████████████████████████████████████████████████████████████████████| 24/24 [00:00<00:00, 1846.05it/s]\n"
     ]
    },
    {
     "name": "stdout",
     "output_type": "stream",
     "text": [
      "Left with 2605 links after removing issue-pairs with multiple link types between them\n",
      "0 2\n",
      "Left with 2599 links after removing issue-pairs with multiple entries\n",
      "Cleaned 9474 issues and 2599 links\n",
      "----------------------------\n",
      "JFROG\n",
      "Loaded 15535 issues and 3303 links\n",
      "After filtering out issues with empty titles, 15535 issues remain\n"
     ]
    },
    {
     "name": "stderr",
     "output_type": "stream",
     "text": [
      "100%|████████████████████████████████████████████████████████████████████████████| 3303/3303 [00:00<00:00, 4773.12it/s]\n"
     ]
    },
    {
     "name": "stdout",
     "output_type": "stream",
     "text": [
      "Left with 3303 links after removing half-private links\n"
     ]
    },
    {
     "name": "stderr",
     "output_type": "stream",
     "text": [
      "100%|████████████████████████████████████████████████████████████████████████████████| 24/24 [00:00<00:00, 1599.89it/s]\n"
     ]
    },
    {
     "name": "stdout",
     "output_type": "stream",
     "text": [
      "Left with 3233 links after removing issue-pairs with multiple link types between them\n",
      "0 2\n",
      "Left with 3229 links after removing issue-pairs with multiple entries\n",
      "Cleaned 15535 issues and 3229 links\n",
      "----------------------------\n",
      "JIRA\n",
      "Loaded 274545 issues and 110507 links\n",
      "After filtering out issues with empty titles, 274543 issues remain\n"
     ]
    },
    {
     "name": "stderr",
     "output_type": "stream",
     "text": [
      "100%|████████████████████████████████████████████████████████████████████████| 110507/110507 [00:23<00:00, 4768.66it/s]\n",
      "C:\\Users\\J0K3R-Nitro\\AppData\\Local\\Temp\\ipykernel_26844\\3976087386.py:11: SettingWithCopyWarning: \n",
      "A value is trying to be set on a copy of a slice from a DataFrame\n",
      "\n",
      "See the caveats in the documentation: https://pandas.pydata.org/pandas-docs/stable/user_guide/indexing.html#returning-a-view-versus-a-copy\n",
      "  link_df.drop_duplicates(subset=['name'], keep=False, inplace=True)\n"
     ]
    },
    {
     "name": "stdout",
     "output_type": "stream",
     "text": [
      "Left with 102573 links after removing half-private links\n"
     ]
    },
    {
     "name": "stderr",
     "output_type": "stream",
     "text": [
      "100%|████████████████████████████████████████████████████████████████████████████████| 819/819 [00:10<00:00, 78.39it/s]\n"
     ]
    },
    {
     "name": "stdout",
     "output_type": "stream",
     "text": [
      "Left with 100096 links after removing issue-pairs with multiple link types between them\n",
      "0 2\n",
      "Left with 99819 links after removing issue-pairs with multiple entries\n",
      "Cleaned 274543 issues and 99819 links\n",
      "----------------------------\n",
      "JIRAECOSYSTEM\n",
      "Loaded 41866 issues and 12439 links\n",
      "After filtering out issues with empty titles, 41865 issues remain\n"
     ]
    },
    {
     "name": "stderr",
     "output_type": "stream",
     "text": [
      "100%|██████████████████████████████████████████████████████████████████████████| 12439/12439 [00:02<00:00, 4779.45it/s]\n",
      "C:\\Users\\J0K3R-Nitro\\AppData\\Local\\Temp\\ipykernel_26844\\3976087386.py:11: SettingWithCopyWarning: \n",
      "A value is trying to be set on a copy of a slice from a DataFrame\n",
      "\n",
      "See the caveats in the documentation: https://pandas.pydata.org/pandas-docs/stable/user_guide/indexing.html#returning-a-view-versus-a-copy\n",
      "  link_df.drop_duplicates(subset=['name'], keep=False, inplace=True)\n"
     ]
    },
    {
     "name": "stdout",
     "output_type": "stream",
     "text": [
      "Left with 11598 links after removing half-private links\n"
     ]
    },
    {
     "name": "stderr",
     "output_type": "stream",
     "text": [
      "100%|█████████████████████████████████████████████████████████████████████████████████| 66/66 [00:00<00:00, 768.03it/s]\n"
     ]
    },
    {
     "name": "stdout",
     "output_type": "stream",
     "text": [
      "Left with 11414 links after removing issue-pairs with multiple link types between them\n",
      "0 2\n",
      "Left with 11398 links after removing issue-pairs with multiple entries\n",
      "Cleaned 41865 issues and 11398 links\n",
      "----------------------------\n",
      "MARIADB\n",
      "Loaded 31229 issues and 14950 links\n",
      "After filtering out issues with empty titles, 31229 issues remain\n"
     ]
    },
    {
     "name": "stderr",
     "output_type": "stream",
     "text": [
      "100%|██████████████████████████████████████████████████████████████████████████| 14950/14950 [00:03<00:00, 4683.59it/s]\n",
      "C:\\Users\\J0K3R-Nitro\\AppData\\Local\\Temp\\ipykernel_26844\\3976087386.py:11: SettingWithCopyWarning: \n",
      "A value is trying to be set on a copy of a slice from a DataFrame\n",
      "\n",
      "See the caveats in the documentation: https://pandas.pydata.org/pandas-docs/stable/user_guide/indexing.html#returning-a-view-versus-a-copy\n",
      "  link_df.drop_duplicates(subset=['name'], keep=False, inplace=True)\n"
     ]
    },
    {
     "name": "stdout",
     "output_type": "stream",
     "text": [
      "Left with 14929 links after removing half-private links\n"
     ]
    },
    {
     "name": "stderr",
     "output_type": "stream",
     "text": [
      "100%|█████████████████████████████████████████████████████████████████████████████████| 98/98 [00:00<00:00, 700.01it/s]\n"
     ]
    },
    {
     "name": "stdout",
     "output_type": "stream",
     "text": [
      "Left with 14659 links after removing issue-pairs with multiple link types between them\n",
      "0 2\n",
      "Left with 14618 links after removing issue-pairs with multiple entries\n",
      "Cleaned 31229 issues and 14618 links\n",
      "----------------------------\n",
      "MINDVILLE\n",
      "Loaded 2134 issues and 46 links\n",
      "After filtering out issues with empty titles, 2134 issues remain\n"
     ]
    },
    {
     "name": "stderr",
     "output_type": "stream",
     "text": [
      "100%|████████████████████████████████████████████████████████████████████████████████| 46/46 [00:00<00:00, 4600.00it/s]\n"
     ]
    },
    {
     "name": "stdout",
     "output_type": "stream",
     "text": [
      "Left with 46 links after removing half-private links\n"
     ]
    },
    {
     "name": "stderr",
     "output_type": "stream",
     "text": [
      "0it [00:00, ?it/s]\n"
     ]
    },
    {
     "name": "stdout",
     "output_type": "stream",
     "text": [
      "Left with 44 links after removing issue-pairs with multiple link types between them\n",
      "0 2\n",
      "Left with 44 links after removing issue-pairs with multiple entries\n",
      "Cleaned 2134 issues and 44 links\n",
      "----------------------------\n",
      "MONGODB\n",
      "Loaded 137172 issues and 92362 links\n",
      "After filtering out issues with empty titles, 137171 issues remain\n"
     ]
    },
    {
     "name": "stderr",
     "output_type": "stream",
     "text": [
      "100%|██████████████████████████████████████████████████████████████████████████| 92362/92362 [00:19<00:00, 4756.52it/s]\n",
      "C:\\Users\\J0K3R-Nitro\\AppData\\Local\\Temp\\ipykernel_26844\\3976087386.py:11: SettingWithCopyWarning: \n",
      "A value is trying to be set on a copy of a slice from a DataFrame\n",
      "\n",
      "See the caveats in the documentation: https://pandas.pydata.org/pandas-docs/stable/user_guide/indexing.html#returning-a-view-versus-a-copy\n",
      "  link_df.drop_duplicates(subset=['name'], keep=False, inplace=True)\n"
     ]
    },
    {
     "name": "stdout",
     "output_type": "stream",
     "text": [
      "Left with 65240 links after removing half-private links\n"
     ]
    },
    {
     "name": "stderr",
     "output_type": "stream",
     "text": [
      "100%|███████████████████████████████████████████████████████████████████████████████| 389/389 [00:03<00:00, 101.91it/s]\n"
     ]
    },
    {
     "name": "stdout",
     "output_type": "stream",
     "text": [
      "Left with 63883 links after removing issue-pairs with multiple link types between them\n",
      "0 2\n",
      "Left with 63821 links after removing issue-pairs with multiple entries\n",
      "Cleaned 137171 issues and 63821 links\n",
      "----------------------------\n",
      "QT\n",
      "Loaded 148579 issues and 41426 links\n",
      "After filtering out issues with empty titles, 148579 issues remain\n"
     ]
    },
    {
     "name": "stderr",
     "output_type": "stream",
     "text": [
      "100%|██████████████████████████████████████████████████████████████████████████| 41426/41426 [00:08<00:00, 4788.58it/s]\n",
      "C:\\Users\\J0K3R-Nitro\\AppData\\Local\\Temp\\ipykernel_26844\\3976087386.py:11: SettingWithCopyWarning: \n",
      "A value is trying to be set on a copy of a slice from a DataFrame\n",
      "\n",
      "See the caveats in the documentation: https://pandas.pydata.org/pandas-docs/stable/user_guide/indexing.html#returning-a-view-versus-a-copy\n",
      "  link_df.drop_duplicates(subset=['name'], keep=False, inplace=True)\n"
     ]
    },
    {
     "name": "stdout",
     "output_type": "stream",
     "text": [
      "Left with 40646 links after removing half-private links\n"
     ]
    },
    {
     "name": "stderr",
     "output_type": "stream",
     "text": [
      "100%|███████████████████████████████████████████████████████████████████████████████| 171/171 [00:01<00:00, 169.81it/s]\n"
     ]
    },
    {
     "name": "stdout",
     "output_type": "stream",
     "text": [
      "Left with 40128 links after removing issue-pairs with multiple link types between them\n",
      "0 2\n",
      "Left with 40105 links after removing issue-pairs with multiple entries\n",
      "Cleaned 148579 issues and 40105 links\n",
      "----------------------------\n",
      "REDHAT\n",
      "Loaded 353000 issues and 127369 links\n",
      "After filtering out issues with empty titles, 352999 issues remain\n"
     ]
    },
    {
     "name": "stderr",
     "output_type": "stream",
     "text": [
      "100%|████████████████████████████████████████████████████████████████████████| 127369/127369 [00:26<00:00, 4788.94it/s]\n",
      "C:\\Users\\J0K3R-Nitro\\AppData\\Local\\Temp\\ipykernel_26844\\3976087386.py:11: SettingWithCopyWarning: \n",
      "A value is trying to be set on a copy of a slice from a DataFrame\n",
      "\n",
      "See the caveats in the documentation: https://pandas.pydata.org/pandas-docs/stable/user_guide/indexing.html#returning-a-view-versus-a-copy\n",
      "  link_df.drop_duplicates(subset=['name'], keep=False, inplace=True)\n"
     ]
    },
    {
     "name": "stdout",
     "output_type": "stream",
     "text": [
      "Left with 123000 links after removing half-private links\n"
     ]
    },
    {
     "name": "stderr",
     "output_type": "stream",
     "text": [
      "100%|██████████████████████████████████████████████████████████████████████████████| 1205/1205 [00:17<00:00, 69.32it/s]\n"
     ]
    },
    {
     "name": "stdout",
     "output_type": "stream",
     "text": [
      "Left with 120136 links after removing issue-pairs with multiple link types between them\n",
      "0 2\n",
      "Left with 119669 links after removing issue-pairs with multiple entries\n",
      "Cleaned 352999 issues and 119669 links\n",
      "----------------------------\n",
      "SAKAI\n",
      "Loaded 50550 issues and 20292 links\n",
      "After filtering out issues with empty titles, 50550 issues remain\n"
     ]
    },
    {
     "name": "stderr",
     "output_type": "stream",
     "text": [
      "100%|██████████████████████████████████████████████████████████████████████████| 20292/20292 [00:04<00:00, 4740.01it/s]\n"
     ]
    },
    {
     "name": "stdout",
     "output_type": "stream",
     "text": [
      "Left with 20292 links after removing half-private links\n"
     ]
    },
    {
     "name": "stderr",
     "output_type": "stream",
     "text": [
      "100%|███████████████████████████████████████████████████████████████████████████████| 143/143 [00:00<00:00, 476.67it/s]\n"
     ]
    },
    {
     "name": "stdout",
     "output_type": "stream",
     "text": [
      "Left with 19852 links after removing issue-pairs with multiple link types between them\n",
      "0 2\n",
      "Left with 19803 links after removing issue-pairs with multiple entries\n",
      "Cleaned 50550 issues and 19803 links\n",
      "----------------------------\n",
      "SECONDLIFE\n",
      "Loaded 1867 issues and 674 links\n",
      "After filtering out issues with empty titles, 1867 issues remain\n"
     ]
    },
    {
     "name": "stderr",
     "output_type": "stream",
     "text": [
      "100%|██████████████████████████████████████████████████████████████████████████████| 674/674 [00:00<00:00, 4616.46it/s]\n"
     ]
    },
    {
     "name": "stdout",
     "output_type": "stream",
     "text": [
      "Left with 674 links after removing half-private links\n"
     ]
    },
    {
     "name": "stderr",
     "output_type": "stream",
     "text": [
      "100%|████████████████████████████████████████████████████████████████████████████████| 17/17 [00:00<00:00, 2428.91it/s]\n"
     ]
    },
    {
     "name": "stdout",
     "output_type": "stream",
     "text": [
      "Left with 634 links after removing issue-pairs with multiple link types between them\n",
      "0 2\n",
      "Left with 631 links after removing issue-pairs with multiple entries\n",
      "Cleaned 1867 issues and 631 links\n",
      "----------------------------\n",
      "SONATYPE\n",
      "Loaded 87284 issues and 4975 links\n",
      "After filtering out issues with empty titles, 87282 issues remain\n"
     ]
    },
    {
     "name": "stderr",
     "output_type": "stream",
     "text": [
      "100%|████████████████████████████████████████████████████████████████████████████| 4975/4975 [00:01<00:00, 4530.95it/s]\n",
      "C:\\Users\\J0K3R-Nitro\\AppData\\Local\\Temp\\ipykernel_26844\\3976087386.py:11: SettingWithCopyWarning: \n",
      "A value is trying to be set on a copy of a slice from a DataFrame\n",
      "\n",
      "See the caveats in the documentation: https://pandas.pydata.org/pandas-docs/stable/user_guide/indexing.html#returning-a-view-versus-a-copy\n",
      "  link_df.drop_duplicates(subset=['name'], keep=False, inplace=True)\n"
     ]
    },
    {
     "name": "stdout",
     "output_type": "stream",
     "text": [
      "Left with 4534 links after removing half-private links\n"
     ]
    },
    {
     "name": "stderr",
     "output_type": "stream",
     "text": [
      "100%|████████████████████████████████████████████████████████████████████████████████| 17/17 [00:00<00:00, 1214.37it/s]\n"
     ]
    },
    {
     "name": "stdout",
     "output_type": "stream",
     "text": [
      "Left with 4466 links after removing issue-pairs with multiple link types between them\n",
      "0 2\n",
      "Left with 4465 links after removing issue-pairs with multiple entries\n",
      "Cleaned 87282 issues and 4465 links\n",
      "----------------------------\n",
      "SPRING\n",
      "Loaded 69156 issues and 14716 links\n",
      "After filtering out issues with empty titles, 69156 issues remain\n"
     ]
    },
    {
     "name": "stderr",
     "output_type": "stream",
     "text": [
      "100%|██████████████████████████████████████████████████████████████████████████| 14716/14716 [00:03<00:00, 4704.60it/s]\n",
      "C:\\Users\\J0K3R-Nitro\\AppData\\Local\\Temp\\ipykernel_26844\\3976087386.py:11: SettingWithCopyWarning: \n",
      "A value is trying to be set on a copy of a slice from a DataFrame\n",
      "\n",
      "See the caveats in the documentation: https://pandas.pydata.org/pandas-docs/stable/user_guide/indexing.html#returning-a-view-versus-a-copy\n",
      "  link_df.drop_duplicates(subset=['name'], keep=False, inplace=True)\n"
     ]
    },
    {
     "name": "stdout",
     "output_type": "stream",
     "text": [
      "Left with 14616 links after removing half-private links\n"
     ]
    },
    {
     "name": "stderr",
     "output_type": "stream",
     "text": [
      "100%|█████████████████████████████████████████████████████████████████████████████████| 52/52 [00:00<00:00, 559.14it/s]\n"
     ]
    },
    {
     "name": "stdout",
     "output_type": "stream",
     "text": [
      "Left with 14478 links after removing issue-pairs with multiple link types between them\n",
      "0 2\n",
      "Left with 14462 links after removing issue-pairs with multiple entries\n",
      "Cleaned 69156 issues and 14462 links\n",
      "----------------------------\n",
      "0.024049617863072324\n"
     ]
    }
   ],
   "source": [
    "sum_dml = 0\n",
    "for s in SOURCES:\n",
    "    print(s.upper())\n",
    "    issue_df, link_df = load_data(s)\n",
    "    print(f'Loaded {len(issue_df)} issues and {len(link_df)} links')\n",
    "    \n",
    "    issue_df = clean_issues(issue_df)\n",
    "    \n",
    "    link_df, del_mult_lt = clean_links(link_df)\n",
    "    \n",
    "    sum_dml+=del_mult_lt\n",
    "    \n",
    "    print(f'Cleaned {len(issue_df)} issues and {len(link_df)} links')\n",
    "    \n",
    "    link_df.to_csv('../../data/crawl/clean_links_'+s.lower()+'.csv', encoding='utf-8', index=True, sep=';')\n",
    "    print(\"----------------------------\")\n",
    "print(sum_dml/15)"
   ]
  },
  {
   "cell_type": "markdown",
   "id": "handled-revelation",
   "metadata": {},
   "source": [
    "## Example of what exactly is cleaned"
   ]
  },
  {
   "cell_type": "code",
   "execution_count": 9,
   "id": "cee27da1",
   "metadata": {},
   "outputs": [
    {
     "name": "stdout",
     "output_type": "stream",
     "text": [
      "Loaded 50550 issues and 20292 links\n"
     ]
    },
    {
     "name": "stderr",
     "output_type": "stream",
     "text": [
      "100%|██████████████████████████████████████████████████████████████████████████| 20292/20292 [00:04<00:00, 4689.59it/s]"
     ]
    },
    {
     "name": "stdout",
     "output_type": "stream",
     "text": [
      "Left with 20292 links after removing half-private links\n"
     ]
    },
    {
     "name": "stderr",
     "output_type": "stream",
     "text": [
      "\n"
     ]
    }
   ],
   "source": [
    "source = 'sakai'\n",
    "issue_df, link_df = load_data(source)\n",
    "\n",
    "print(f'Loaded {len(issue_df)} issues and {len(link_df)} links')\n",
    "add_linked_issues_to_df(link_df)\n",
    "\n",
    "# remove links with uncrawled and filtered issues\n",
    "cl_link_df = link_df[link_df[['issue_id_1', 'issue_id_2']].isin(issue_df.index.values).all(axis=1)]\n",
    "print(f'Left with {len(cl_link_df)} links after removing half-private links')\n",
    "x = len(cl_link_df)"
   ]
  },
  {
   "cell_type": "code",
   "execution_count": 10,
   "id": "074136e2",
   "metadata": {},
   "outputs": [
    {
     "data": {
      "text/plain": [
       "SAK-28699_SAK-17240    2\n",
       "SAK-34955_SAK-35012    2\n",
       "SAK-42179_SAK-43226    2\n",
       "SAK-32651_SAK-32652    2\n",
       "SAK-32651_SAK-32377    2\n",
       "                      ..\n",
       "SAK-1547_SAK-35827     1\n",
       "SAK-35827_SAK-1872     1\n",
       "SAK-35577_SAK-35832    1\n",
       "SAK-35835_SAK-29249    1\n",
       "BBB-21_BBB-24          1\n",
       "Name: name, Length: 20166, dtype: int64"
      ]
     },
     "execution_count": 10,
     "metadata": {},
     "output_type": "execute_result"
    }
   ],
   "source": [
    "cl_link_df.name.value_counts()"
   ]
  },
  {
   "cell_type": "code",
   "execution_count": 11,
   "id": "cfd93f50",
   "metadata": {},
   "outputs": [
    {
     "data": {
      "text/html": [
       "<div>\n",
       "<style scoped>\n",
       "    .dataframe tbody tr th:only-of-type {\n",
       "        vertical-align: middle;\n",
       "    }\n",
       "\n",
       "    .dataframe tbody tr th {\n",
       "        vertical-align: top;\n",
       "    }\n",
       "\n",
       "    .dataframe thead th {\n",
       "        text-align: right;\n",
       "    }\n",
       "</style>\n",
       "<table border=\"1\" class=\"dataframe\">\n",
       "  <thead>\n",
       "    <tr style=\"text-align: right;\">\n",
       "      <th></th>\n",
       "      <th>name</th>\n",
       "      <th>linktype</th>\n",
       "      <th>issue_id_1</th>\n",
       "      <th>issue_id_2</th>\n",
       "      <th>issues</th>\n",
       "    </tr>\n",
       "  </thead>\n",
       "  <tbody>\n",
       "    <tr>\n",
       "      <th>11060</th>\n",
       "      <td>SAK-34955_SAK-35012</td>\n",
       "      <td>1 - Relate</td>\n",
       "      <td>SAK-34955</td>\n",
       "      <td>SAK-35012</td>\n",
       "      <td>['SAK-34955', 'SAK-35012']</td>\n",
       "    </tr>\n",
       "    <tr>\n",
       "      <th>11126</th>\n",
       "      <td>SAK-34955_SAK-35012</td>\n",
       "      <td>Subtask</td>\n",
       "      <td>SAK-34955</td>\n",
       "      <td>SAK-35012</td>\n",
       "      <td>['SAK-34955', 'SAK-35012']</td>\n",
       "    </tr>\n",
       "  </tbody>\n",
       "</table>\n",
       "</div>"
      ],
      "text/plain": [
       "                      name    linktype issue_id_1 issue_id_2  \\\n",
       "11060  SAK-34955_SAK-35012  1 - Relate  SAK-34955  SAK-35012   \n",
       "11126  SAK-34955_SAK-35012     Subtask  SAK-34955  SAK-35012   \n",
       "\n",
       "                           issues  \n",
       "11060  ['SAK-34955', 'SAK-35012']  \n",
       "11126  ['SAK-34955', 'SAK-35012']  "
      ]
     },
     "execution_count": 11,
     "metadata": {},
     "output_type": "execute_result"
    }
   ],
   "source": [
    "cl_link_df[cl_link_df['name']=='SAK-34955_SAK-35012']"
   ]
  },
  {
   "cell_type": "code",
   "execution_count": 12,
   "id": "7e32de42",
   "metadata": {},
   "outputs": [
    {
     "name": "stdout",
     "output_type": "stream",
     "text": [
      "Left with 20040 links after removing issue-pairs with multiple links between them if they were in the correct order\n"
     ]
    }
   ],
   "source": [
    "cl_link_df.drop_duplicates(subset=['name'], keep=False, inplace=True)\n",
    "print(f'Left with {len(cl_link_df)} links after removing issue-pairs with multiple links between them if they were in the correct order')"
   ]
  },
  {
   "cell_type": "code",
   "execution_count": 13,
   "id": "31d94c5f",
   "metadata": {},
   "outputs": [
    {
     "name": "stdout",
     "output_type": "stream",
     "text": [
      "143\n"
     ]
    }
   ],
   "source": [
    "# in case the name is the otherway around, like issue-1_issue-2 and issue-2_issue-1\n",
    "doublelinks = (cl_link_df.issues.value_counts()>1).rename_axis('doubles').reset_index(name='valid')\n",
    "valid_doubles = set(doublelinks[doublelinks['valid']==True]['doubles'])\n",
    "print(len(valid_doubles))"
   ]
  },
  {
   "cell_type": "code",
   "execution_count": 14,
   "id": "94d96461",
   "metadata": {},
   "outputs": [
    {
     "data": {
      "text/plain": [
       "{\"['EVALSYS-1233', 'EVALSYS-1242']\",\n",
       " \"['EVALSYS-741', 'EVALSYS-769']\",\n",
       " \"['GRBK-11', 'GRBK-225']\",\n",
       " \"['GRBK-1236', 'GRBK-859']\",\n",
       " \"['GRBK-1276', 'GRBK-1277']\",\n",
       " \"['GRBK-594', 'GRBK-668']\",\n",
       " \"['GRBK-752', 'GRBK-804']\",\n",
       " \"['GRBK-800', 'GRBK-803']\",\n",
       " \"['GRBK-868', 'GRBK-874']\",\n",
       " \"['PROD-232', 'PROD-271']\",\n",
       " \"['QNA-67', 'QNA-90']\",\n",
       " \"['QUALTRICS-40', 'QUALTRICS-91']\",\n",
       " \"['SAK-10568', 'SAK-10579']\",\n",
       " \"['SAK-10826', 'SAK-8706']\",\n",
       " \"['SAK-11008', 'SAK-9924']\",\n",
       " \"['SAK-1121', 'SAK-1159']\",\n",
       " \"['SAK-11798', 'SAK-13312']\",\n",
       " \"['SAK-12357', 'SAK-13245']\",\n",
       " \"['SAK-13522', 'SAK-28054']\",\n",
       " \"['SAK-1357', 'SAK-2015']\",\n",
       " \"['SAK-13679', 'SAK-15701']\",\n",
       " \"['SAK-14046', 'SAK-14175']\",\n",
       " \"['SAK-14120', 'SAK-38548']\",\n",
       " \"['SAK-1426', 'SAK-754']\",\n",
       " \"['SAK-1426', 'SAK-807']\",\n",
       " \"['SAK-14386', 'SAK-16166']\",\n",
       " \"['SAK-14474', 'SAK-35537']\",\n",
       " \"['SAK-15280', 'SAK-18008']\",\n",
       " \"['SAK-15813', 'SAK-16433']\",\n",
       " \"['SAK-16091', 'SAK-22700']\",\n",
       " \"['SAK-16279', 'SAK-17059']\",\n",
       " \"['SAK-16421', 'SAK-16907']\",\n",
       " \"['SAK-16422', 'SAK-16605']\",\n",
       " \"['SAK-1647', 'SAK-5226']\",\n",
       " \"['SAK-16572', 'SAK-18817']\",\n",
       " \"['SAK-16600', 'SAK-29132']\",\n",
       " \"['SAK-1883', 'SAK-1958']\",\n",
       " \"['SAK-1894', 'SAK-4528']\",\n",
       " \"['SAK-1894', 'SAK-7836']\",\n",
       " \"['SAK-19156', 'SAK-23948']\",\n",
       " \"['SAK-19340', 'SAK-19465']\",\n",
       " \"['SAK-19813', 'SAK-20373']\",\n",
       " \"['SAK-19907', 'SAK-20001']\",\n",
       " \"['SAK-20564', 'SAK-20576']\",\n",
       " \"['SAK-21013', 'SAK-39438']\",\n",
       " \"['SAK-21390', 'SAK-27213']\",\n",
       " \"['SAK-21498', 'SAK-22769']\",\n",
       " \"['SAK-22332', 'SAK-22336']\",\n",
       " \"['SAK-22384', 'SAK-29135']\",\n",
       " \"['SAK-22384', 'SAK-38940']\",\n",
       " \"['SAK-22611', 'SAK-22633']\",\n",
       " \"['SAK-23409', 'SAK-24364']\",\n",
       " \"['SAK-23437', 'SAK-23529']\",\n",
       " \"['SAK-23628', 'SAK-31762']\",\n",
       " \"['SAK-23662', 'SAK-25513']\",\n",
       " \"['SAK-23695', 'SAK-23749']\",\n",
       " \"['SAK-24490', 'SAK-24508']\",\n",
       " \"['SAK-24614', 'SAK-24937']\",\n",
       " \"['SAK-24865', 'SAK-25250']\",\n",
       " \"['SAK-25455', 'SAK-25637']\",\n",
       " \"['SAK-25903', 'SAK-26078']\",\n",
       " \"['SAK-25952', 'SAK-26145']\",\n",
       " \"['SAK-26306', 'SAK-26352']\",\n",
       " \"['SAK-26513', 'SAK-26519']\",\n",
       " \"['SAK-26723', 'SAK-26957']\",\n",
       " \"['SAK-27774', 'SAK-27776']\",\n",
       " \"['SAK-27774', 'SAK-28526']\",\n",
       " \"['SAK-27942', 'SAK-29007']\",\n",
       " \"['SAK-28119', 'SAK-29913']\",\n",
       " \"['SAK-28644', 'SAK-41816']\",\n",
       " \"['SAK-28659', 'SAK-39744']\",\n",
       " \"['SAK-29292', 'SAK-29849']\",\n",
       " \"['SAK-29326', 'SAK-33265']\",\n",
       " \"['SAK-29400', 'SAK-34002']\",\n",
       " \"['SAK-31123', 'SAK-33995']\",\n",
       " \"['SAK-31301', 'SAK-31449']\",\n",
       " \"['SAK-31442', 'SAK-31762']\",\n",
       " \"['SAK-31796', 'SAK-36475']\",\n",
       " \"['SAK-32016', 'SAK-32019']\",\n",
       " \"['SAK-32685', 'SAK-32686']\",\n",
       " \"['SAK-32701', 'SAK-33667']\",\n",
       " \"['SAK-3296', 'SAK-9198']\",\n",
       " \"['SAK-33431', 'SAK-33554']\",\n",
       " \"['SAK-33579', 'SAK-33604']\",\n",
       " \"['SAK-33889', 'SAK-33893']\",\n",
       " \"['SAK-33995', 'SAK-40516']\",\n",
       " \"['SAK-33995', 'SAK-42356']\",\n",
       " \"['SAK-34015', 'SAK-34236']\",\n",
       " \"['SAK-34169', 'SAK-36547']\",\n",
       " \"['SAK-34476', 'SAK-43612']\",\n",
       " \"['SAK-34508', 'SAK-36942']\",\n",
       " \"['SAK-34674', 'SAK-44737']\",\n",
       " \"['SAK-34735', 'SAK-45332']\",\n",
       " \"['SAK-34821', 'SAK-34985']\",\n",
       " \"['SAK-34851', 'SAK-36983']\",\n",
       " \"['SAK-34930', 'SAK-7974']\",\n",
       " \"['SAK-35049', 'SAK-35123']\",\n",
       " \"['SAK-35060', 'SAK-35205']\",\n",
       " \"['SAK-35101', 'SAK-35151']\",\n",
       " \"['SAK-35541', 'SAK-910']\",\n",
       " \"['SAK-35542', 'SAK-36808']\",\n",
       " \"['SAK-35953', 'SAK-36308']\",\n",
       " \"['SAK-36422', 'SAK-36699']\",\n",
       " \"['SAK-36638', 'SAK-36844']\",\n",
       " \"['SAK-36720', 'SAK-36756']\",\n",
       " \"['SAK-36752', 'SAK-36786']\",\n",
       " \"['SAK-36885', 'SAK-37167']\",\n",
       " \"['SAK-36980', 'SAK-37167']\",\n",
       " \"['SAK-37002', 'SAK-37178']\",\n",
       " \"['SAK-37723', 'SAK-37770']\",\n",
       " \"['SAK-3836', 'SAK-8165']\",\n",
       " \"['SAK-39178', 'SAK-39372']\",\n",
       " \"['SAK-40389', 'SAK-40515']\",\n",
       " \"['SAK-40395', 'SAK-44296']\",\n",
       " \"['SAK-40544', 'SAK-42466']\",\n",
       " \"['SAK-40655', 'SAK-40702']\",\n",
       " \"['SAK-40731', 'SAK-41898']\",\n",
       " \"['SAK-40875', 'SAK-41409']\",\n",
       " \"['SAK-40979', 'SAK-43362']\",\n",
       " \"['SAK-41849', 'SAK-42371']\",\n",
       " \"['SAK-4197', 'SAK-5442']\",\n",
       " \"['SAK-43405', 'SAK-43406']\",\n",
       " \"['SAK-43809', 'SAK-43810']\",\n",
       " \"['SAK-43809', 'SAK-43812']\",\n",
       " \"['SAK-43809', 'SAK-43813']\",\n",
       " \"['SAK-44081', 'SAK-44082']\",\n",
       " \"['SAK-45512', 'SAK-45565']\",\n",
       " \"['SAK-45683', 'SAK-45709']\",\n",
       " \"['SAK-45832', 'SAK-45962']\",\n",
       " \"['SAK-45976', 'SAK-46214']\",\n",
       " \"['SAK-46021', 'SAK-46185']\",\n",
       " \"['SAK-5225', 'SAK-5226']\",\n",
       " \"['SAK-5296', 'SAK-7311']\",\n",
       " \"['SAK-5373', 'SAK-5374']\",\n",
       " \"['SAK-5904', 'SAK-8997']\",\n",
       " \"['SAK-5992', 'SAK-5993']\",\n",
       " \"['SAK-6482', 'SAK-6680']\",\n",
       " \"['SAK-7271', 'SAK-7616']\",\n",
       " \"['SAK-7272', 'SAK-7590']\",\n",
       " \"['SAK-7880', 'SAK-8163']\",\n",
       " \"['SAK-8034', 'SAK-8162']\",\n",
       " \"['SAK-8142', 'SAK-9428']\",\n",
       " \"['SAK-8392', 'SAK-8920']\"}"
      ]
     },
     "execution_count": 14,
     "metadata": {},
     "output_type": "execute_result"
    }
   ],
   "source": [
    "valid_doubles"
   ]
  },
  {
   "cell_type": "code",
   "execution_count": 15,
   "id": "bottom-dominant",
   "metadata": {},
   "outputs": [
    {
     "data": {
      "text/html": [
       "<div>\n",
       "<style scoped>\n",
       "    .dataframe tbody tr th:only-of-type {\n",
       "        vertical-align: middle;\n",
       "    }\n",
       "\n",
       "    .dataframe tbody tr th {\n",
       "        vertical-align: top;\n",
       "    }\n",
       "\n",
       "    .dataframe thead th {\n",
       "        text-align: right;\n",
       "    }\n",
       "</style>\n",
       "<table border=\"1\" class=\"dataframe\">\n",
       "  <thead>\n",
       "    <tr style=\"text-align: right;\">\n",
       "      <th></th>\n",
       "      <th>name</th>\n",
       "      <th>linktype</th>\n",
       "      <th>issue_id_1</th>\n",
       "      <th>issue_id_2</th>\n",
       "      <th>issues</th>\n",
       "    </tr>\n",
       "  </thead>\n",
       "  <tbody>\n",
       "    <tr>\n",
       "      <th>36429</th>\n",
       "      <td>EVALSYS-741_EVALSYS-769</td>\n",
       "      <td>3 - Duplicate</td>\n",
       "      <td>EVALSYS-741</td>\n",
       "      <td>EVALSYS-769</td>\n",
       "      <td>['EVALSYS-741', 'EVALSYS-769']</td>\n",
       "    </tr>\n",
       "    <tr>\n",
       "      <th>36430</th>\n",
       "      <td>EVALSYS-769_EVALSYS-741</td>\n",
       "      <td>4 - Incorporate</td>\n",
       "      <td>EVALSYS-769</td>\n",
       "      <td>EVALSYS-741</td>\n",
       "      <td>['EVALSYS-741', 'EVALSYS-769']</td>\n",
       "    </tr>\n",
       "  </tbody>\n",
       "</table>\n",
       "</div>"
      ],
      "text/plain": [
       "                          name         linktype   issue_id_1   issue_id_2  \\\n",
       "36429  EVALSYS-741_EVALSYS-769    3 - Duplicate  EVALSYS-741  EVALSYS-769   \n",
       "36430  EVALSYS-769_EVALSYS-741  4 - Incorporate  EVALSYS-769  EVALSYS-741   \n",
       "\n",
       "                               issues  \n",
       "36429  ['EVALSYS-741', 'EVALSYS-769']  \n",
       "36430  ['EVALSYS-741', 'EVALSYS-769']  "
      ]
     },
     "execution_count": 15,
     "metadata": {},
     "output_type": "execute_result"
    }
   ],
   "source": [
    "cl_link_df[(cl_link_df['issue_id_1'] == 'EVALSYS-741') | (cl_link_df['issue_id_2'] == 'EVALSYS-741')]"
   ]
  },
  {
   "cell_type": "code",
   "execution_count": 16,
   "id": "0a6656df",
   "metadata": {
    "scrolled": true
   },
   "outputs": [
    {
     "name": "stdout",
     "output_type": "stream",
     "text": [
      "['SAK-8034', 'SAK-8162']\n",
      "['SAK-36885', 'SAK-37167']\n",
      "['SAK-16279', 'SAK-17059']\n",
      "['GRBK-752', 'GRBK-804']\n",
      "['SAK-5225', 'SAK-5226']\n",
      "['SAK-28659', 'SAK-39744']\n",
      "['SAK-1894', 'SAK-4528']\n",
      "['SAK-29400', 'SAK-34002']\n",
      "['GRBK-800', 'GRBK-803']\n",
      "['SAK-1426', 'SAK-754']\n",
      "['SAK-44081', 'SAK-44082']\n",
      "['SAK-16091', 'SAK-22700']\n",
      "['SAK-14474', 'SAK-35537']\n",
      "['SAK-26306', 'SAK-26352']\n",
      "['SAK-8392', 'SAK-8920']\n",
      "['SAK-19340', 'SAK-19465']\n",
      "['SAK-40655', 'SAK-40702']\n",
      "['SAK-7272', 'SAK-7590']\n",
      "['SAK-1357', 'SAK-2015']\n",
      "['SAK-40979', 'SAK-43362']\n",
      "['GRBK-868', 'GRBK-874']\n",
      "['SAK-33995', 'SAK-42356']\n",
      "['SAK-5904', 'SAK-8997']\n",
      "['SAK-1426', 'SAK-807']\n",
      "['SAK-46021', 'SAK-46185']\n",
      "['SAK-15813', 'SAK-16433']\n",
      "['SAK-35541', 'SAK-910']\n",
      "['SAK-7271', 'SAK-7616']\n",
      "['GRBK-1276', 'GRBK-1277']\n",
      "['SAK-5296', 'SAK-7311']\n",
      "['SAK-11008', 'SAK-9924']\n",
      "['SAK-27942', 'SAK-29007']\n",
      "['SAK-16421', 'SAK-16907']\n",
      "['SAK-33431', 'SAK-33554']\n",
      "['SAK-34169', 'SAK-36547']\n",
      "['SAK-36638', 'SAK-36844']\n",
      "['EVALSYS-1233', 'EVALSYS-1242']\n",
      "['GRBK-1236', 'GRBK-859']\n",
      "['SAK-23437', 'SAK-23529']\n",
      "['SAK-35060', 'SAK-35205']\n",
      "['SAK-31123', 'SAK-33995']\n",
      "['GRBK-11', 'GRBK-225']\n",
      "['SAK-24490', 'SAK-24508']\n",
      "['SAK-28119', 'SAK-29913']\n",
      "['SAK-24865', 'SAK-25250']\n",
      "['SAK-5992', 'SAK-5993']\n",
      "['SAK-27774', 'SAK-28526']\n",
      "['SAK-34851', 'SAK-36983']\n",
      "['SAK-35953', 'SAK-36308']\n",
      "Left with 19852 links after removing issue-pairs with multiple link types between them\n"
     ]
    }
   ],
   "source": [
    "for i in valid_doubles:\n",
    "    if len(set(cl_link_df[cl_link_df['issues']==i]['linktype']))>1:\n",
    "        cl_link_df = cl_link_df[cl_link_df.issues != i]\n",
    "    else:\n",
    "        print(i)\n",
    "print(f'Left with {len(cl_link_df)} links after removing issue-pairs with multiple link types between them')"
   ]
  },
  {
   "cell_type": "code",
   "execution_count": 17,
   "id": "naughty-factor",
   "metadata": {},
   "outputs": [
    {
     "name": "stdout",
     "output_type": "stream",
     "text": [
      "Left with 19852 links after removing issue-pairs with multiple link types between them\n"
     ]
    }
   ],
   "source": [
    "print(f'Left with {len(cl_link_df)} links after removing issue-pairs with multiple link types between them')"
   ]
  },
  {
   "cell_type": "code",
   "execution_count": 18,
   "id": "willing-emergency",
   "metadata": {},
   "outputs": [
    {
     "data": {
      "text/plain": [
       "440"
      ]
     },
     "execution_count": 18,
     "metadata": {},
     "output_type": "execute_result"
    }
   ],
   "source": [
    "x-len(cl_link_df)"
   ]
  },
  {
   "cell_type": "code",
   "execution_count": 19,
   "id": "underlying-cheese",
   "metadata": {},
   "outputs": [
    {
     "data": {
      "text/plain": [
       "0.02168342203824167"
      ]
     },
     "execution_count": 19,
     "metadata": {},
     "output_type": "execute_result"
    }
   ],
   "source": [
    "(x-len(cl_link_df))/x"
   ]
  },
  {
   "cell_type": "code",
   "execution_count": 20,
   "id": "7d024858",
   "metadata": {
    "scrolled": true
   },
   "outputs": [
    {
     "data": {
      "text/plain": [
       "['GRBK-752', 'GRBK-804']      2\n",
       "['SAK-19340', 'SAK-19465']    2\n",
       "['SAK-7271', 'SAK-7616']      2\n",
       "['SAK-33995', 'SAK-42356']    2\n",
       "['GRBK-11', 'GRBK-225']       2\n",
       "                             ..\n",
       "['SAK-35575', 'SAK-35882']    1\n",
       "['SAK-29249', 'SAK-35882']    1\n",
       "['SAK-35205', 'SAK-35884']    1\n",
       "['SAK-20939', 'SAK-35884']    1\n",
       "['BBB-21', 'BBB-24']          1\n",
       "Name: issues, Length: 19803, dtype: int64"
      ]
     },
     "execution_count": 20,
     "metadata": {},
     "output_type": "execute_result"
    }
   ],
   "source": [
    "cl_link_df.issues.value_counts()"
   ]
  },
  {
   "cell_type": "code",
   "execution_count": 21,
   "id": "1ac680f2",
   "metadata": {},
   "outputs": [
    {
     "data": {
      "text/html": [
       "<div>\n",
       "<style scoped>\n",
       "    .dataframe tbody tr th:only-of-type {\n",
       "        vertical-align: middle;\n",
       "    }\n",
       "\n",
       "    .dataframe tbody tr th {\n",
       "        vertical-align: top;\n",
       "    }\n",
       "\n",
       "    .dataframe thead th {\n",
       "        text-align: right;\n",
       "    }\n",
       "</style>\n",
       "<table border=\"1\" class=\"dataframe\">\n",
       "  <thead>\n",
       "    <tr style=\"text-align: right;\">\n",
       "      <th></th>\n",
       "      <th>name</th>\n",
       "      <th>linktype</th>\n",
       "      <th>issue_id_1</th>\n",
       "      <th>issue_id_2</th>\n",
       "      <th>issues</th>\n",
       "    </tr>\n",
       "  </thead>\n",
       "  <tbody>\n",
       "    <tr>\n",
       "      <th>9359</th>\n",
       "      <td>SAK-35060_SAK-37046</td>\n",
       "      <td>1 - Relate</td>\n",
       "      <td>SAK-35060</td>\n",
       "      <td>SAK-37046</td>\n",
       "      <td>['SAK-35060', 'SAK-37046']</td>\n",
       "    </tr>\n",
       "    <tr>\n",
       "      <th>10600</th>\n",
       "      <td>SAK-35665_SAK-35060</td>\n",
       "      <td>1 - Relate</td>\n",
       "      <td>SAK-35665</td>\n",
       "      <td>SAK-35060</td>\n",
       "      <td>['SAK-35060', 'SAK-35665']</td>\n",
       "    </tr>\n",
       "    <tr>\n",
       "      <th>10855</th>\n",
       "      <td>SAK-35205_SAK-35060</td>\n",
       "      <td>1 - Relate</td>\n",
       "      <td>SAK-35205</td>\n",
       "      <td>SAK-35060</td>\n",
       "      <td>['SAK-35060', 'SAK-35205']</td>\n",
       "    </tr>\n",
       "    <tr>\n",
       "      <th>10856</th>\n",
       "      <td>SAK-35060_SAK-35205</td>\n",
       "      <td>1 - Relate</td>\n",
       "      <td>SAK-35060</td>\n",
       "      <td>SAK-35205</td>\n",
       "      <td>['SAK-35060', 'SAK-35205']</td>\n",
       "    </tr>\n",
       "    <tr>\n",
       "      <th>10922</th>\n",
       "      <td>SAK-35136_SAK-35060</td>\n",
       "      <td>1 - Relate</td>\n",
       "      <td>SAK-35136</td>\n",
       "      <td>SAK-35060</td>\n",
       "      <td>['SAK-35060', 'SAK-35136']</td>\n",
       "    </tr>\n",
       "    <tr>\n",
       "      <th>11006</th>\n",
       "      <td>SAK-35060_SAK-34877</td>\n",
       "      <td>1 - Relate</td>\n",
       "      <td>SAK-35060</td>\n",
       "      <td>SAK-34877</td>\n",
       "      <td>['SAK-34877', 'SAK-35060']</td>\n",
       "    </tr>\n",
       "    <tr>\n",
       "      <th>11012</th>\n",
       "      <td>SAK-35052_SAK-35060</td>\n",
       "      <td>2 - Cloned</td>\n",
       "      <td>SAK-35052</td>\n",
       "      <td>SAK-35060</td>\n",
       "      <td>['SAK-35052', 'SAK-35060']</td>\n",
       "    </tr>\n",
       "    <tr>\n",
       "      <th>11013</th>\n",
       "      <td>SAK-35060_SAK-34968</td>\n",
       "      <td>5 - Depend</td>\n",
       "      <td>SAK-35060</td>\n",
       "      <td>SAK-34968</td>\n",
       "      <td>['SAK-34968', 'SAK-35060']</td>\n",
       "    </tr>\n",
       "  </tbody>\n",
       "</table>\n",
       "</div>"
      ],
      "text/plain": [
       "                      name    linktype issue_id_1 issue_id_2  \\\n",
       "9359   SAK-35060_SAK-37046  1 - Relate  SAK-35060  SAK-37046   \n",
       "10600  SAK-35665_SAK-35060  1 - Relate  SAK-35665  SAK-35060   \n",
       "10855  SAK-35205_SAK-35060  1 - Relate  SAK-35205  SAK-35060   \n",
       "10856  SAK-35060_SAK-35205  1 - Relate  SAK-35060  SAK-35205   \n",
       "10922  SAK-35136_SAK-35060  1 - Relate  SAK-35136  SAK-35060   \n",
       "11006  SAK-35060_SAK-34877  1 - Relate  SAK-35060  SAK-34877   \n",
       "11012  SAK-35052_SAK-35060  2 - Cloned  SAK-35052  SAK-35060   \n",
       "11013  SAK-35060_SAK-34968  5 - Depend  SAK-35060  SAK-34968   \n",
       "\n",
       "                           issues  \n",
       "9359   ['SAK-35060', 'SAK-37046']  \n",
       "10600  ['SAK-35060', 'SAK-35665']  \n",
       "10855  ['SAK-35060', 'SAK-35205']  \n",
       "10856  ['SAK-35060', 'SAK-35205']  \n",
       "10922  ['SAK-35060', 'SAK-35136']  \n",
       "11006  ['SAK-34877', 'SAK-35060']  \n",
       "11012  ['SAK-35052', 'SAK-35060']  \n",
       "11013  ['SAK-34968', 'SAK-35060']  "
      ]
     },
     "execution_count": 21,
     "metadata": {},
     "output_type": "execute_result"
    }
   ],
   "source": [
    "cl_link_df[(cl_link_df['issue_id_1'] == 'SAK-35060') | (cl_link_df['issue_id_2'] == 'SAK-35060')]"
   ]
  },
  {
   "cell_type": "code",
   "execution_count": 22,
   "id": "61099697",
   "metadata": {},
   "outputs": [
    {
     "name": "stdout",
     "output_type": "stream",
     "text": [
      "Left with 19803 links after removing issue-pairs with the same link type with multiple entries\n"
     ]
    }
   ],
   "source": [
    "#Multiple links complete remove\n",
    "cl_link_df.drop_duplicates(subset=['issues'], inplace=True)\n",
    "print(f'Left with {len(cl_link_df)} links after removing issue-pairs with the same link type with multiple entries')\n",
    "\n",
    "cl_link_df.reset_index(inplace=True, drop=True)"
   ]
  },
  {
   "cell_type": "code",
   "execution_count": null,
   "id": "3049cb9f",
   "metadata": {},
   "outputs": [],
   "source": []
  },
  {
   "cell_type": "code",
   "execution_count": null,
   "id": "cordless-combination",
   "metadata": {},
   "outputs": [],
   "source": []
  }
 ],
 "metadata": {
  "kernelspec": {
   "display_name": "Python 3 (ipykernel)",
   "language": "python",
   "name": "python3"
  },
  "language_info": {
   "codemirror_mode": {
    "name": "ipython",
    "version": 3
   },
   "file_extension": ".py",
   "mimetype": "text/x-python",
   "name": "python",
   "nbconvert_exporter": "python",
   "pygments_lexer": "ipython3",
   "version": "3.10.6"
  }
 },
 "nbformat": 4,
 "nbformat_minor": 5
}
