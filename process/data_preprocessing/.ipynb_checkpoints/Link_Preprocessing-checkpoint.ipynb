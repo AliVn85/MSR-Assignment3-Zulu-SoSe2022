{
 "cells": [
  {
   "cell_type": "code",
   "execution_count": 1,
   "id": "1345f1c8",
   "metadata": {},
   "outputs": [],
   "source": [
    "import pandas as pd\n",
    "from tqdm import tqdm"
   ]
  },
  {
   "cell_type": "code",
   "execution_count": 2,
   "id": "f0b7ceb1",
   "metadata": {},
   "outputs": [],
   "source": [
    "tqdm.pandas()"
   ]
  },
  {
   "cell_type": "code",
   "execution_count": 3,
   "id": "1981c072",
   "metadata": {},
   "outputs": [],
   "source": [
    "SOURCES = ['Apache', 'Hyperledger', 'IntelDAOS', 'JFrog', 'Jira', 'JiraEcosystem', 'MariaDB', 'Mindville', 'MongoDB', 'Qt', 'RedHat', 'Sakai', 'SecondLife', 'Sonatype', 'Spring']"
   ]
  },
  {
   "cell_type": "code",
   "execution_count": 4,
   "id": "863b71eb",
   "metadata": {},
   "outputs": [],
   "source": [
    "def add_linked_issues_to_df(df):\n",
    "    df['issues']=''\n",
    "    for i in tqdm(range(len(df))):\n",
    "        df[\"issues\"].iloc[i] = str(sorted(set([df.iloc[i]['issue_id_1'], df.iloc[i]['issue_id_2']])))"
   ]
  },
  {
   "cell_type": "code",
   "execution_count": 5,
   "id": "f3026273",
   "metadata": {},
   "outputs": [],
   "source": [
    "def load_data(source):\n",
    "    #Loading Issues\n",
    "    filename = '../data/crawl/issues_'+source.lower()+'.csv'\n",
    "    issue_df = pd.read_csv(filename, encoding=\"UTF-8\", low_memory=False, sep=';', index_col=['issue_id'])\n",
    "\n",
    "    #Loading Links\n",
    "    filename = '../data/crawl/links_'+source.lower()+'.csv'\n",
    "    link_df = pd.read_csv(filename, encoding=\"UTF-8\", low_memory=False, sep=';').drop_duplicates()\n",
    "    \n",
    "    return issue_df, link_df"
   ]
  },
  {
   "cell_type": "code",
   "execution_count": 6,
   "id": "f135e4c3",
   "metadata": {},
   "outputs": [],
   "source": [
    "def clean_issues(issue_df):\n",
    "    #Remove issues with empty titles\n",
    "    issue_df = issue_df[~issue_df['title'].fillna(' ').str.isspace()]\n",
    "    print(f'After filtering out issues with empty titles, {len(issue_df)} issues remain')\n",
    "    \n",
    "    return issue_df"
   ]
  },
  {
   "cell_type": "code",
   "execution_count": 7,
   "id": "f15fdbbe",
   "metadata": {},
   "outputs": [],
   "source": [
    "def clean_links(link_df):\n",
    "    add_linked_issues_to_df(link_df)\n",
    "    \n",
    "    # remove links with uncrawled and filtered issues\n",
    "    link_df = link_df[link_df[['issue_id_1', 'issue_id_2']].isin(issue_df.index.values).all(axis=1)]\n",
    "    print(f'Left with {len(link_df)} links after removing half-private links')\n",
    "    x = len(link_df)\n",
    "    \n",
    "    # cleanup links\n",
    "    # only allow one linktype per issue-pair\n",
    "    link_df.drop_duplicates(subset=['name'], keep=False, inplace=True)\n",
    "#     print(f'Left with {len(link_df)} links after removing issue-pairs with multiple links between them')\n",
    "\n",
    "    # in case the name is the otherway around, like issue-1_issue-2 and issue-2_issue-1\n",
    "    doublelinks = (link_df.issues.value_counts()>1).rename_axis('doubles').reset_index(name='valid')\n",
    "    valid_doubles = set(doublelinks[doublelinks['valid']==True]['doubles'])\n",
    "\n",
    "    for i in tqdm(valid_doubles):\n",
    "        if len(set(link_df[link_df['issues']==i]['linktype']))>1:\n",
    "            link_df = link_df[link_df.issues != i]\n",
    "    print(f'Left with {len(link_df)} links after removing issue-pairs with multiple link types between them')\n",
    "    \n",
    "    print(round((x-len(link_df))/x)*100,2)\n",
    "\n",
    "    del_mult_lt = (x-len(link_df))/x\n",
    "    \n",
    "    #Multiple links complete remove\n",
    "    link_df.drop_duplicates(subset=['issues'], inplace=True)\n",
    "    print(f'Left with {len(link_df)} links after removing issue-pairs with multiple entries')\n",
    "\n",
    "    link_df.reset_index(inplace=True, drop=True)\n",
    "    \n",
    "    return link_df, del_mult_lt"
   ]
  },
  {
   "cell_type": "code",
   "execution_count": 8,
   "id": "b42827a1",
   "metadata": {
    "scrolled": true
   },
   "outputs": [
    {
     "name": "stdout",
     "output_type": "stream",
     "text": [
      "APACHE\n",
      "Loaded 1014926 issues and 264107 links\n",
      "After filtering out issues with empty titles, 1014925 issues remain\n"
     ]
    },
    {
     "name": "stderr",
     "output_type": "stream",
     "text": [
      "  0%|                                                                           | 294/264107 [00:00<01:08, 3833.93it/s]\n"
     ]
    },
    {
     "ename": "KeyboardInterrupt",
     "evalue": "",
     "output_type": "error",
     "traceback": [
      "\u001b[1;31m---------------------------------------------------------------------------\u001b[0m",
      "\u001b[1;31mKeyboardInterrupt\u001b[0m                         Traceback (most recent call last)",
      "Input \u001b[1;32mIn [8]\u001b[0m, in \u001b[0;36m<cell line: 2>\u001b[1;34m()\u001b[0m\n\u001b[0;32m      5\u001b[0m \u001b[38;5;28mprint\u001b[39m(\u001b[38;5;124mf\u001b[39m\u001b[38;5;124m'\u001b[39m\u001b[38;5;124mLoaded \u001b[39m\u001b[38;5;132;01m{\u001b[39;00m\u001b[38;5;28mlen\u001b[39m(issue_df)\u001b[38;5;132;01m}\u001b[39;00m\u001b[38;5;124m issues and \u001b[39m\u001b[38;5;132;01m{\u001b[39;00m\u001b[38;5;28mlen\u001b[39m(link_df)\u001b[38;5;132;01m}\u001b[39;00m\u001b[38;5;124m links\u001b[39m\u001b[38;5;124m'\u001b[39m)\n\u001b[0;32m      7\u001b[0m issue_df \u001b[38;5;241m=\u001b[39m clean_issues(issue_df)\n\u001b[1;32m----> 9\u001b[0m link_df, del_mult_lt \u001b[38;5;241m=\u001b[39m \u001b[43mclean_links\u001b[49m\u001b[43m(\u001b[49m\u001b[43mlink_df\u001b[49m\u001b[43m)\u001b[49m\n\u001b[0;32m     11\u001b[0m sum_dml\u001b[38;5;241m+\u001b[39m\u001b[38;5;241m=\u001b[39mdel_mult_lt\n\u001b[0;32m     13\u001b[0m \u001b[38;5;28mprint\u001b[39m(\u001b[38;5;124mf\u001b[39m\u001b[38;5;124m'\u001b[39m\u001b[38;5;124mCleaned \u001b[39m\u001b[38;5;132;01m{\u001b[39;00m\u001b[38;5;28mlen\u001b[39m(issue_df)\u001b[38;5;132;01m}\u001b[39;00m\u001b[38;5;124m issues and \u001b[39m\u001b[38;5;132;01m{\u001b[39;00m\u001b[38;5;28mlen\u001b[39m(link_df)\u001b[38;5;132;01m}\u001b[39;00m\u001b[38;5;124m links\u001b[39m\u001b[38;5;124m'\u001b[39m)\n",
      "Input \u001b[1;32mIn [7]\u001b[0m, in \u001b[0;36mclean_links\u001b[1;34m(link_df)\u001b[0m\n\u001b[0;32m      1\u001b[0m \u001b[38;5;28;01mdef\u001b[39;00m \u001b[38;5;21mclean_links\u001b[39m(link_df):\n\u001b[1;32m----> 2\u001b[0m     \u001b[43madd_linked_issues_to_df\u001b[49m\u001b[43m(\u001b[49m\u001b[43mlink_df\u001b[49m\u001b[43m)\u001b[49m\n\u001b[0;32m      4\u001b[0m     \u001b[38;5;66;03m# remove links with uncrawled and filtered issues\u001b[39;00m\n\u001b[0;32m      5\u001b[0m     link_df \u001b[38;5;241m=\u001b[39m link_df[link_df[[\u001b[38;5;124m'\u001b[39m\u001b[38;5;124missue_id_1\u001b[39m\u001b[38;5;124m'\u001b[39m, \u001b[38;5;124m'\u001b[39m\u001b[38;5;124missue_id_2\u001b[39m\u001b[38;5;124m'\u001b[39m]]\u001b[38;5;241m.\u001b[39misin(issue_df\u001b[38;5;241m.\u001b[39mindex\u001b[38;5;241m.\u001b[39mvalues)\u001b[38;5;241m.\u001b[39mall(axis\u001b[38;5;241m=\u001b[39m\u001b[38;5;241m1\u001b[39m)]\n",
      "Input \u001b[1;32mIn [4]\u001b[0m, in \u001b[0;36madd_linked_issues_to_df\u001b[1;34m(df)\u001b[0m\n\u001b[0;32m      2\u001b[0m df[\u001b[38;5;124m'\u001b[39m\u001b[38;5;124missues\u001b[39m\u001b[38;5;124m'\u001b[39m]\u001b[38;5;241m=\u001b[39m\u001b[38;5;124m'\u001b[39m\u001b[38;5;124m'\u001b[39m\n\u001b[0;32m      3\u001b[0m \u001b[38;5;28;01mfor\u001b[39;00m i \u001b[38;5;129;01min\u001b[39;00m tqdm(\u001b[38;5;28mrange\u001b[39m(\u001b[38;5;28mlen\u001b[39m(df))):\n\u001b[1;32m----> 4\u001b[0m     \u001b[43mdf\u001b[49m\u001b[43m[\u001b[49m\u001b[38;5;124;43m\"\u001b[39;49m\u001b[38;5;124;43missues\u001b[39;49m\u001b[38;5;124;43m\"\u001b[39;49m\u001b[43m]\u001b[49m\u001b[38;5;241;43m.\u001b[39;49m\u001b[43miloc\u001b[49m\u001b[43m[\u001b[49m\u001b[43mi\u001b[49m\u001b[43m]\u001b[49m \u001b[38;5;241m=\u001b[39m \u001b[38;5;28mstr\u001b[39m(\u001b[38;5;28msorted\u001b[39m(\u001b[38;5;28mset\u001b[39m([df\u001b[38;5;241m.\u001b[39miloc[i][\u001b[38;5;124m'\u001b[39m\u001b[38;5;124missue_id_1\u001b[39m\u001b[38;5;124m'\u001b[39m], df\u001b[38;5;241m.\u001b[39miloc[i][\u001b[38;5;124m'\u001b[39m\u001b[38;5;124missue_id_2\u001b[39m\u001b[38;5;124m'\u001b[39m]])))\n",
      "File \u001b[1;32m~\\AppData\\Local\\Programs\\Python\\Python310\\lib\\site-packages\\pandas-1.4.3-py3.10-win-amd64.egg\\pandas\\core\\indexing.py:716\u001b[0m, in \u001b[0;36m_LocationIndexer.__setitem__\u001b[1;34m(self, key, value)\u001b[0m\n\u001b[0;32m    713\u001b[0m \u001b[38;5;28mself\u001b[39m\u001b[38;5;241m.\u001b[39m_has_valid_setitem_indexer(key)\n\u001b[0;32m    715\u001b[0m iloc \u001b[38;5;241m=\u001b[39m \u001b[38;5;28mself\u001b[39m \u001b[38;5;28;01mif\u001b[39;00m \u001b[38;5;28mself\u001b[39m\u001b[38;5;241m.\u001b[39mname \u001b[38;5;241m==\u001b[39m \u001b[38;5;124m\"\u001b[39m\u001b[38;5;124miloc\u001b[39m\u001b[38;5;124m\"\u001b[39m \u001b[38;5;28;01melse\u001b[39;00m \u001b[38;5;28mself\u001b[39m\u001b[38;5;241m.\u001b[39mobj\u001b[38;5;241m.\u001b[39miloc\n\u001b[1;32m--> 716\u001b[0m \u001b[43miloc\u001b[49m\u001b[38;5;241;43m.\u001b[39;49m\u001b[43m_setitem_with_indexer\u001b[49m\u001b[43m(\u001b[49m\u001b[43mindexer\u001b[49m\u001b[43m,\u001b[49m\u001b[43m \u001b[49m\u001b[43mvalue\u001b[49m\u001b[43m,\u001b[49m\u001b[43m \u001b[49m\u001b[38;5;28;43mself\u001b[39;49m\u001b[38;5;241;43m.\u001b[39;49m\u001b[43mname\u001b[49m\u001b[43m)\u001b[49m\n",
      "File \u001b[1;32m~\\AppData\\Local\\Programs\\Python\\Python310\\lib\\site-packages\\pandas-1.4.3-py3.10-win-amd64.egg\\pandas\\core\\indexing.py:1690\u001b[0m, in \u001b[0;36m_iLocIndexer._setitem_with_indexer\u001b[1;34m(self, indexer, value, name)\u001b[0m\n\u001b[0;32m   1688\u001b[0m     \u001b[38;5;28mself\u001b[39m\u001b[38;5;241m.\u001b[39m_setitem_with_indexer_split_path(indexer, value, name)\n\u001b[0;32m   1689\u001b[0m \u001b[38;5;28;01melse\u001b[39;00m:\n\u001b[1;32m-> 1690\u001b[0m     \u001b[38;5;28;43mself\u001b[39;49m\u001b[38;5;241;43m.\u001b[39;49m\u001b[43m_setitem_single_block\u001b[49m\u001b[43m(\u001b[49m\u001b[43mindexer\u001b[49m\u001b[43m,\u001b[49m\u001b[43m \u001b[49m\u001b[43mvalue\u001b[49m\u001b[43m,\u001b[49m\u001b[43m \u001b[49m\u001b[43mname\u001b[49m\u001b[43m)\u001b[49m\n",
      "File \u001b[1;32m~\\AppData\\Local\\Programs\\Python\\Python310\\lib\\site-packages\\pandas-1.4.3-py3.10-win-amd64.egg\\pandas\\core\\indexing.py:1935\u001b[0m, in \u001b[0;36m_iLocIndexer._setitem_single_block\u001b[1;34m(self, indexer, value, name)\u001b[0m\n\u001b[0;32m   1932\u001b[0m     value \u001b[38;5;241m=\u001b[39m \u001b[38;5;28mself\u001b[39m\u001b[38;5;241m.\u001b[39m_align_frame(indexer, value)\n\u001b[0;32m   1934\u001b[0m \u001b[38;5;66;03m# check for chained assignment\u001b[39;00m\n\u001b[1;32m-> 1935\u001b[0m \u001b[38;5;28;43mself\u001b[39;49m\u001b[38;5;241;43m.\u001b[39;49m\u001b[43mobj\u001b[49m\u001b[38;5;241;43m.\u001b[39;49m\u001b[43m_check_is_chained_assignment_possible\u001b[49m\u001b[43m(\u001b[49m\u001b[43m)\u001b[49m\n\u001b[0;32m   1937\u001b[0m \u001b[38;5;66;03m# actually do the set\u001b[39;00m\n\u001b[0;32m   1938\u001b[0m \u001b[38;5;28mself\u001b[39m\u001b[38;5;241m.\u001b[39mobj\u001b[38;5;241m.\u001b[39m_mgr \u001b[38;5;241m=\u001b[39m \u001b[38;5;28mself\u001b[39m\u001b[38;5;241m.\u001b[39mobj\u001b[38;5;241m.\u001b[39m_mgr\u001b[38;5;241m.\u001b[39msetitem(indexer\u001b[38;5;241m=\u001b[39mindexer, value\u001b[38;5;241m=\u001b[39mvalue)\n",
      "File \u001b[1;32m~\\AppData\\Local\\Programs\\Python\\Python310\\lib\\site-packages\\pandas-1.4.3-py3.10-win-amd64.egg\\pandas\\core\\series.py:1255\u001b[0m, in \u001b[0;36mSeries._check_is_chained_assignment_possible\u001b[1;34m(self)\u001b[0m\n\u001b[0;32m   1253\u001b[0m \u001b[38;5;28;01mif\u001b[39;00m \u001b[38;5;28mself\u001b[39m\u001b[38;5;241m.\u001b[39m_is_view \u001b[38;5;129;01mand\u001b[39;00m \u001b[38;5;28mself\u001b[39m\u001b[38;5;241m.\u001b[39m_is_cached:\n\u001b[0;32m   1254\u001b[0m     ref \u001b[38;5;241m=\u001b[39m \u001b[38;5;28mself\u001b[39m\u001b[38;5;241m.\u001b[39m_get_cacher()\n\u001b[1;32m-> 1255\u001b[0m     \u001b[38;5;28;01mif\u001b[39;00m ref \u001b[38;5;129;01mis\u001b[39;00m \u001b[38;5;129;01mnot\u001b[39;00m \u001b[38;5;28;01mNone\u001b[39;00m \u001b[38;5;129;01mand\u001b[39;00m \u001b[43mref\u001b[49m\u001b[38;5;241;43m.\u001b[39;49m\u001b[43m_is_mixed_type\u001b[49m:\n\u001b[0;32m   1256\u001b[0m         \u001b[38;5;28mself\u001b[39m\u001b[38;5;241m.\u001b[39m_check_setitem_copy(t\u001b[38;5;241m=\u001b[39m\u001b[38;5;124m\"\u001b[39m\u001b[38;5;124mreferent\u001b[39m\u001b[38;5;124m\"\u001b[39m, force\u001b[38;5;241m=\u001b[39m\u001b[38;5;28;01mTrue\u001b[39;00m)\n\u001b[0;32m   1257\u001b[0m     \u001b[38;5;28;01mreturn\u001b[39;00m \u001b[38;5;28;01mTrue\u001b[39;00m\n",
      "File \u001b[1;32m~\\AppData\\Local\\Programs\\Python\\Python310\\lib\\site-packages\\pandas-1.4.3-py3.10-win-amd64.egg\\pandas\\core\\generic.py:5680\u001b[0m, in \u001b[0;36mNDFrame._is_mixed_type\u001b[1;34m(self)\u001b[0m\n\u001b[0;32m   5675\u001b[0m \u001b[38;5;28;01mif\u001b[39;00m \u001b[38;5;28mself\u001b[39m\u001b[38;5;241m.\u001b[39m_mgr\u001b[38;5;241m.\u001b[39many_extension_types:\n\u001b[0;32m   5676\u001b[0m     \u001b[38;5;66;03m# Even if they have the same dtype, we can't consolidate them,\u001b[39;00m\n\u001b[0;32m   5677\u001b[0m     \u001b[38;5;66;03m#  so we pretend this is \"mixed'\"\u001b[39;00m\n\u001b[0;32m   5678\u001b[0m     \u001b[38;5;28;01mreturn\u001b[39;00m \u001b[38;5;28;01mTrue\u001b[39;00m\n\u001b[1;32m-> 5680\u001b[0m \u001b[38;5;28;01mreturn\u001b[39;00m \u001b[38;5;28;43mself\u001b[39;49m\u001b[38;5;241;43m.\u001b[39;49m\u001b[43mdtypes\u001b[49m\u001b[38;5;241;43m.\u001b[39;49m\u001b[43mnunique\u001b[49m\u001b[43m(\u001b[49m\u001b[43m)\u001b[49m \u001b[38;5;241m>\u001b[39m \u001b[38;5;241m1\u001b[39m\n",
      "File \u001b[1;32m~\\AppData\\Local\\Programs\\Python\\Python310\\lib\\site-packages\\pandas-1.4.3-py3.10-win-amd64.egg\\pandas\\core\\base.py:1027\u001b[0m, in \u001b[0;36mIndexOpsMixin.nunique\u001b[1;34m(self, dropna)\u001b[0m\n\u001b[0;32m    993\u001b[0m \u001b[38;5;28;01mdef\u001b[39;00m \u001b[38;5;21mnunique\u001b[39m(\u001b[38;5;28mself\u001b[39m, dropna: \u001b[38;5;28mbool\u001b[39m \u001b[38;5;241m=\u001b[39m \u001b[38;5;28;01mTrue\u001b[39;00m) \u001b[38;5;241m-\u001b[39m\u001b[38;5;241m>\u001b[39m \u001b[38;5;28mint\u001b[39m:\n\u001b[0;32m    994\u001b[0m     \u001b[38;5;124;03m\"\"\"\u001b[39;00m\n\u001b[0;32m    995\u001b[0m \u001b[38;5;124;03m    Return number of unique elements in the object.\u001b[39;00m\n\u001b[0;32m    996\u001b[0m \n\u001b[1;32m   (...)\u001b[0m\n\u001b[0;32m   1025\u001b[0m \u001b[38;5;124;03m    4\u001b[39;00m\n\u001b[0;32m   1026\u001b[0m \u001b[38;5;124;03m    \"\"\"\u001b[39;00m\n\u001b[1;32m-> 1027\u001b[0m     uniqs \u001b[38;5;241m=\u001b[39m \u001b[38;5;28;43mself\u001b[39;49m\u001b[38;5;241;43m.\u001b[39;49m\u001b[43munique\u001b[49m\u001b[43m(\u001b[49m\u001b[43m)\u001b[49m\n\u001b[0;32m   1028\u001b[0m     \u001b[38;5;28;01mif\u001b[39;00m dropna:\n\u001b[0;32m   1029\u001b[0m         uniqs \u001b[38;5;241m=\u001b[39m remove_na_arraylike(uniqs)\n",
      "File \u001b[1;32m~\\AppData\\Local\\Programs\\Python\\Python310\\lib\\site-packages\\pandas-1.4.3-py3.10-win-amd64.egg\\pandas\\core\\series.py:2088\u001b[0m, in \u001b[0;36mSeries.unique\u001b[1;34m(self)\u001b[0m\n\u001b[0;32m   2030\u001b[0m \u001b[38;5;28;01mdef\u001b[39;00m \u001b[38;5;21munique\u001b[39m(\u001b[38;5;28mself\u001b[39m) \u001b[38;5;241m-\u001b[39m\u001b[38;5;241m>\u001b[39m ArrayLike:\n\u001b[0;32m   2031\u001b[0m     \u001b[38;5;124;03m\"\"\"\u001b[39;00m\n\u001b[0;32m   2032\u001b[0m \u001b[38;5;124;03m    Return unique values of Series object.\u001b[39;00m\n\u001b[0;32m   2033\u001b[0m \n\u001b[1;32m   (...)\u001b[0m\n\u001b[0;32m   2086\u001b[0m \u001b[38;5;124;03m    Categories (3, object): ['a' < 'b' < 'c']\u001b[39;00m\n\u001b[0;32m   2087\u001b[0m \u001b[38;5;124;03m    \"\"\"\u001b[39;00m\n\u001b[1;32m-> 2088\u001b[0m     \u001b[38;5;28;01mreturn\u001b[39;00m \u001b[38;5;28;43msuper\u001b[39;49m\u001b[43m(\u001b[49m\u001b[43m)\u001b[49m\u001b[38;5;241;43m.\u001b[39;49m\u001b[43munique\u001b[49m\u001b[43m(\u001b[49m\u001b[43m)\u001b[49m\n",
      "File \u001b[1;32m~\\AppData\\Local\\Programs\\Python\\Python310\\lib\\site-packages\\pandas-1.4.3-py3.10-win-amd64.egg\\pandas\\core\\base.py:989\u001b[0m, in \u001b[0;36mIndexOpsMixin.unique\u001b[1;34m(self)\u001b[0m\n\u001b[0;32m    987\u001b[0m             result \u001b[38;5;241m=\u001b[39m np\u001b[38;5;241m.\u001b[39masarray(result)\n\u001b[0;32m    988\u001b[0m \u001b[38;5;28;01melse\u001b[39;00m:\n\u001b[1;32m--> 989\u001b[0m     result \u001b[38;5;241m=\u001b[39m \u001b[43munique1d\u001b[49m\u001b[43m(\u001b[49m\u001b[43mvalues\u001b[49m\u001b[43m)\u001b[49m\n\u001b[0;32m    991\u001b[0m \u001b[38;5;28;01mreturn\u001b[39;00m result\n",
      "File \u001b[1;32m~\\AppData\\Local\\Programs\\Python\\Python310\\lib\\site-packages\\pandas-1.4.3-py3.10-win-amd64.egg\\pandas\\core\\algorithms.py:440\u001b[0m, in \u001b[0;36munique\u001b[1;34m(values)\u001b[0m\n\u001b[0;32m    437\u001b[0m htable, values \u001b[38;5;241m=\u001b[39m _get_hashtable_algo(values)\n\u001b[0;32m    439\u001b[0m table \u001b[38;5;241m=\u001b[39m htable(\u001b[38;5;28mlen\u001b[39m(values))\n\u001b[1;32m--> 440\u001b[0m uniques \u001b[38;5;241m=\u001b[39m \u001b[43mtable\u001b[49m\u001b[38;5;241;43m.\u001b[39;49m\u001b[43munique\u001b[49m\u001b[43m(\u001b[49m\u001b[43mvalues\u001b[49m\u001b[43m)\u001b[49m\n\u001b[0;32m    441\u001b[0m uniques \u001b[38;5;241m=\u001b[39m _reconstruct_data(uniques, original\u001b[38;5;241m.\u001b[39mdtype, original)\n\u001b[0;32m    442\u001b[0m \u001b[38;5;28;01mreturn\u001b[39;00m uniques\n",
      "\u001b[1;31mKeyboardInterrupt\u001b[0m: "
     ]
    }
   ],
   "source": [
    "sum_dml = 0\n",
    "for s in SOURCES:\n",
    "    print(s.upper())\n",
    "    issue_df, link_df = load_data(s)\n",
    "    print(f'Loaded {len(issue_df)} issues and {len(link_df)} links')\n",
    "    \n",
    "    issue_df = clean_issues(issue_df)\n",
    "    \n",
    "    link_df, del_mult_lt = clean_links(link_df)\n",
    "    \n",
    "    sum_dml+=del_mult_lt\n",
    "    \n",
    "    print(f'Cleaned {len(issue_df)} issues and {len(link_df)} links')\n",
    "    \n",
    "    link_df.to_csv('../data/crawl/clean_links_'+s.lower()+'.csv', encoding='utf-8', index=True, sep=';')\n",
    "    print(\"----------------------------\")\n",
    "print(sum_dml/15)"
   ]
  },
  {
   "cell_type": "markdown",
   "id": "handled-revelation",
   "metadata": {},
   "source": [
    "## Example of what exactly is cleaned"
   ]
  },
  {
   "cell_type": "code",
   "execution_count": null,
   "id": "cee27da1",
   "metadata": {},
   "outputs": [],
   "source": [
    "source = 'sakai'\n",
    "issue_df, link_df = load_data(source)\n",
    "\n",
    "print(f'Loaded {len(issue_df)} issues and {len(link_df)} links')\n",
    "add_linked_issues_to_df(link_df)\n",
    "\n",
    "# remove links with uncrawled and filtered issues\n",
    "cl_link_df = link_df[link_df[['issue_id_1', 'issue_id_2']].isin(issue_df.index.values).all(axis=1)]\n",
    "print(f'Left with {len(cl_link_df)} links after removing half-private links')\n",
    "x = len(cl_link_df)"
   ]
  },
  {
   "cell_type": "code",
   "execution_count": null,
   "id": "074136e2",
   "metadata": {},
   "outputs": [],
   "source": [
    "cl_link_df.name.value_counts()"
   ]
  },
  {
   "cell_type": "code",
   "execution_count": null,
   "id": "cfd93f50",
   "metadata": {},
   "outputs": [],
   "source": [
    "cl_link_df[cl_link_df['name']=='SAK-34955_SAK-35012']"
   ]
  },
  {
   "cell_type": "code",
   "execution_count": null,
   "id": "7e32de42",
   "metadata": {},
   "outputs": [],
   "source": [
    "cl_link_df.drop_duplicates(subset=['name'], keep=False, inplace=True)\n",
    "print(f'Left with {len(cl_link_df)} links after removing issue-pairs with multiple links between them if they were in the correct order')"
   ]
  },
  {
   "cell_type": "code",
   "execution_count": null,
   "id": "31d94c5f",
   "metadata": {},
   "outputs": [],
   "source": [
    "# in case the name is the otherway around, like issue-1_issue-2 and issue-2_issue-1\n",
    "doublelinks = (cl_link_df.issues.value_counts()>1).rename_axis('doubles').reset_index(name='valid')\n",
    "valid_doubles = set(doublelinks[doublelinks['valid']==True]['doubles'])\n",
    "print(len(valid_doubles))"
   ]
  },
  {
   "cell_type": "code",
   "execution_count": null,
   "id": "94d96461",
   "metadata": {},
   "outputs": [],
   "source": [
    "valid_doubles"
   ]
  },
  {
   "cell_type": "code",
   "execution_count": null,
   "id": "bottom-dominant",
   "metadata": {},
   "outputs": [],
   "source": [
    "cl_link_df[(cl_link_df['issue_id_1'] == 'EVALSYS-741') | (cl_link_df['issue_id_2'] == 'EVALSYS-741')]"
   ]
  },
  {
   "cell_type": "code",
   "execution_count": null,
   "id": "0a6656df",
   "metadata": {
    "scrolled": true
   },
   "outputs": [],
   "source": [
    "for i in valid_doubles:\n",
    "    if len(set(cl_link_df[cl_link_df['issues']==i]['linktype']))>1:\n",
    "        cl_link_df = cl_link_df[cl_link_df.issues != i]\n",
    "    else:\n",
    "        print(i)\n",
    "print(f'Left with {len(cl_link_df)} links after removing issue-pairs with multiple link types between them')"
   ]
  },
  {
   "cell_type": "code",
   "execution_count": null,
   "id": "naughty-factor",
   "metadata": {},
   "outputs": [],
   "source": [
    "print(f'Left with {len(cl_link_df)} links after removing issue-pairs with multiple link types between them')"
   ]
  },
  {
   "cell_type": "code",
   "execution_count": null,
   "id": "willing-emergency",
   "metadata": {},
   "outputs": [],
   "source": [
    "x-len(cl_link_df)"
   ]
  },
  {
   "cell_type": "code",
   "execution_count": null,
   "id": "underlying-cheese",
   "metadata": {},
   "outputs": [],
   "source": [
    "(x-len(cl_link_df))/x"
   ]
  },
  {
   "cell_type": "code",
   "execution_count": null,
   "id": "7d024858",
   "metadata": {
    "scrolled": true
   },
   "outputs": [],
   "source": [
    "cl_link_df.issues.value_counts()"
   ]
  },
  {
   "cell_type": "code",
   "execution_count": null,
   "id": "1ac680f2",
   "metadata": {},
   "outputs": [],
   "source": [
    "cl_link_df[(cl_link_df['issue_id_1'] == 'SAK-35060') | (cl_link_df['issue_id_2'] == 'SAK-35060')]"
   ]
  },
  {
   "cell_type": "code",
   "execution_count": null,
   "id": "61099697",
   "metadata": {},
   "outputs": [],
   "source": [
    "#Multiple links complete remove\n",
    "cl_link_df.drop_duplicates(subset=['issues'], inplace=True)\n",
    "print(f'Left with {len(cl_link_df)} links after removing issue-pairs with the same link type with multiple entries')\n",
    "\n",
    "cl_link_df.reset_index(inplace=True, drop=True)"
   ]
  },
  {
   "cell_type": "code",
   "execution_count": null,
   "id": "3049cb9f",
   "metadata": {},
   "outputs": [],
   "source": []
  },
  {
   "cell_type": "code",
   "execution_count": null,
   "id": "cordless-combination",
   "metadata": {},
   "outputs": [],
   "source": []
  }
 ],
 "metadata": {
  "kernelspec": {
   "display_name": "Python 3 (ipykernel)",
   "language": "python",
   "name": "python3"
  },
  "language_info": {
   "codemirror_mode": {
    "name": "ipython",
    "version": 3
   },
   "file_extension": ".py",
   "mimetype": "text/x-python",
   "name": "python",
   "nbconvert_exporter": "python",
   "pygments_lexer": "ipython3",
   "version": "3.10.6"
  }
 },
 "nbformat": 4,
 "nbformat_minor": 5
}
